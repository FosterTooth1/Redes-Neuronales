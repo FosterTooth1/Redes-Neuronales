{
 "cells": [
  {
   "cell_type": "markdown",
   "metadata": {},
   "source": [
    "Red de Hopfield\n",
    "Redes Neuronales y Aprendizaje Profundo\n",
    "Rodrigo F. Román Godínez\n",
    "Flores Lara Alberto\n",
    "5BV1"
   ]
  },
  {
   "cell_type": "markdown",
   "metadata": {},
   "source": [
    "Objetivo:\n",
    "1. Implementar una red de Hopfield que almacene y recupere caracteres (por ejemplo, letras o números representados en una matriz binaria de 0s y 1s).\n",
    "2. Determinar la capacidad de la red de Hopfield: ¿Cuántos caracteres puede almacenar y recuperar correctamente sin error?\n",
    "3. Comparar el desempeño de la red de Hopfield con una memoria asociativa Hebbiana en términos de capacidad de almacenamiento, recuperación y robustez frente a entradas ruidosas."
   ]
  },
  {
   "cell_type": "markdown",
   "metadata": {},
   "source": [
    "Instrucciones:\n",
    "1. Parte 1: Programación de la Red de Hopfield\n",
    "* Paso 1: Crea una función que implemente la red de Hopfield, utilizando la regla de actualización de pesos. Utiliza una matriz de 8x8 para representar cada carácter."
   ]
  },
  {
   "cell_type": "code",
   "execution_count": 61,
   "metadata": {},
   "outputs": [],
   "source": [
    "import numpy as np\n",
    "\n",
    "# Inicialización de la matriz de pesos W con ceros\n",
    "def inicializar_pesos(dimension):\n",
    "    return np.zeros((dimension, dimension))\n",
    "\n",
    "# Regla de actualización de pesos\n",
    "def entrenar_red_hopfield(W, patrones):\n",
    "    for patron in patrones:\n",
    "        patron = patron.reshape(-1)\n",
    "        W += np.outer(patron, patron)\n",
    "    np.fill_diagonal(W, 0)\n",
    "    return W\n"
   ]
  },
  {
   "cell_type": "markdown",
   "metadata": {},
   "source": [
    "Paso 2: Entrena la red de Hopfield con un conjunto de caracteres en formato binario. Los patrones de entrenamiento deben ser vectores de 64 elementos."
   ]
  },
  {
   "cell_type": "code",
   "execution_count": 62,
   "metadata": {},
   "outputs": [],
   "source": [
    "# Definir patrones de entrenamiento\n",
    "a = np.array([1, 1, 1, 1, 1, 1, 1, 1,\n",
    "              1, -1, -1, -1, -1, -1, -1, 1,\n",
    "              1, -1, -1, -1, -1, -1, -1, 1,\n",
    "              1, -1, -1, -1, -1, -1, -1, 1,\n",
    "              1, 1, 1, 1, 1, 1, 1, 1,\n",
    "              1, -1, -1, -1, -1, -1, -1, 1,\n",
    "              1, -1, -1, -1, -1, -1, -1, 1,\n",
    "              1, -1, -1, -1, -1, -1, -1, 1])\n",
    "\n",
    "e = np.array([1, 1, 1, 1, 1, 1, 1, 1,\n",
    "              1, -1, -1, -1, -1, -1, -1, -1,\n",
    "              1, -1, -1, -1, -1, -1, -1, -1,\n",
    "              1, 1, 1, 1, 1, 1, 1, 1,\n",
    "              1, 1, 1, 1, 1, 1, 1, 1,\n",
    "              1, -1, -1, -1, -1, -1, -1, -1,\n",
    "              1, -1, -1, -1, -1, -1, -1, -1,\n",
    "              1, 1, 1, 1, 1, 1, 1, 1])\n",
    "\n",
    "i = np.array([1, 1, 1, 1, 1, 1, 1, 1,\n",
    "              -1, -1, -1, 1, 1, -1, -1, -1,\n",
    "              -1, -1, -1, 1, 1, -1, -1, -1,\n",
    "              -1, -1, -1, 1, 1, -1, -1, -1,\n",
    "              -1, -1, -1, 1, 1, -1, -1, -1,\n",
    "              -1, -1, -1, 1, 1, -1, -1, -1,\n",
    "              -1, -1, -1, 1, 1, -1, -1, -1,\n",
    "              1, 1, 1, 1, 1, 1, 1, 1])\n",
    "\n",
    "o = np.array([1, 1, 1, 1, 1, 1, 1, 1,\n",
    "              1, -1, -1, -1, -1, -1, -1, 1,\n",
    "              1, -1, -1, -1, -1, -1, -1, 1,\n",
    "              1, -1, -1, -1, -1, -1, -1, 1,\n",
    "              1, -1, -1, -1, -1, -1, -1, 1,\n",
    "              1, -1, -1, -1, -1, -1, -1, 1,\n",
    "              1, -1, -1, -1, -1, -1, -1, 1, \n",
    "              1, 1, 1, 1, 1, 1, 1, 1])\n",
    "\n",
    "u = np.array([1, -1, -1, -1, -1, -1, -1, 1,\n",
    "              1, -1, -1, -1, -1, -1, -1, 1,\n",
    "              1, -1, -1, -1, -1, -1, -1, 1,\n",
    "              1, -1, -1, -1, -1, -1, -1, 1,\n",
    "              1, -1, -1, -1, -1, -1, -1, 1,\n",
    "              1, -1, -1, -1, -1, -1, -1, 1,\n",
    "              1, -1, -1, -1, -1, -1, -1, 1,\n",
    "              1, 1, 1, 1, 1, 1, 1, 1])\n",
    "\n",
    "patrones = [a, e, i, o, u]\n",
    "\n",
    "# Se inicializa W y entrena\n",
    "W = inicializar_pesos(64)\n",
    "W = entrenar_red_hopfield(W, patrones)\n"
   ]
  },
  {
   "cell_type": "markdown",
   "metadata": {},
   "source": [
    "Paso 3: Implementa una función para recuperar un carácter dado un patrón ruidoso o incompleto como entrada. La red debe converger a uno de los\n",
    "patrones almacenados."
   ]
  },
  {
   "cell_type": "code",
   "execution_count": 63,
   "metadata": {},
   "outputs": [],
   "source": [
    "# Función de activación para actualizar el patrón\n",
    "def actualizar_patron(W, patron):\n",
    "    nuevo_patron = np.dot(W, patron)\n",
    "    return np.where(nuevo_patron >= 0, 1, -1)\n",
    "\n",
    "# Función para recuperar un carácter a partir de un patrón ruidoso\n",
    "def recuperar_caracter(W, patron_ruidoso, iteraciones=1):\n",
    "    patron = patron_ruidoso\n",
    "    for _ in range(iteraciones):\n",
    "        patron = actualizar_patron(W, patron)\n",
    "    return patron\n"
   ]
  },
  {
   "cell_type": "markdown",
   "metadata": {},
   "source": [
    "Paso 4: Evalúa cuántos caracteres diferentes la red puede almacenar y recuperar adecuadamente. Para esto, presenta patrones ruidosos o\n",
    "incompletos a la red y mide si la red puede converger al carácter almacenado correspondiente."
   ]
  },
  {
   "cell_type": "code",
   "execution_count": 64,
   "metadata": {},
   "outputs": [],
   "source": [
    "# Función para agregar ruido\n",
    "def agregar_ruido(patron, porcentaje_ruido):\n",
    "    patron_ruidoso = patron.copy()\n",
    "    num_bits_a_alterar = int(len(patron_ruidoso) * porcentaje_ruido)\n",
    "    indices = np.random.choice(len(patron_ruidoso), num_bits_a_alterar, replace=False)\n",
    "    for i in indices:\n",
    "        patron_ruidoso[i] *= -1\n",
    "    return patron_ruidoso\n",
    "\n",
    "# Evaluación de recuperación\n",
    "def evaluar_recuperacion(W, patrones, ruido=0.2):\n",
    "    for idx, patron in enumerate(patrones):\n",
    "        print(f\"Evaluando recuperación del patrón {idx + 1}\")\n",
    "        #patron_ruidoso = agregar_ruido(patron, ruido)\n",
    "        patron_ruidoso=patron\n",
    "        recuperado = recuperar_caracter(W, patron_ruidoso)\n",
    "        \n",
    "        print(recuperado.reshape(8,8))\n",
    "        \n",
    "        if np.array_equal(recuperado, patron):\n",
    "            print(\"Recuperación exitosa.\")\n",
    "        else:\n",
    "            print(\"Recuperación fallida.\")\n"
   ]
  },
  {
   "cell_type": "code",
   "execution_count": 65,
   "metadata": {},
   "outputs": [
    {
     "name": "stdout",
     "output_type": "stream",
     "text": [
      "Evaluando recuperación del patrón 1\n",
      "[[ 1  1  1  1  1  1  1  1]\n",
      " [ 1 -1 -1 -1 -1 -1 -1  1]\n",
      " [ 1 -1 -1 -1 -1 -1 -1  1]\n",
      " [ 1 -1 -1 -1 -1 -1 -1  1]\n",
      " [ 1  1  1  1  1  1  1  1]\n",
      " [ 1 -1 -1 -1 -1 -1 -1  1]\n",
      " [ 1 -1 -1 -1 -1 -1 -1  1]\n",
      " [ 1  1  1  1  1  1  1  1]]\n",
      "Recuperación fallida.\n",
      "Evaluando recuperación del patrón 2\n",
      "[[ 1  1  1  1  1  1  1  1]\n",
      " [ 1 -1 -1 -1 -1 -1 -1  1]\n",
      " [ 1 -1 -1 -1 -1 -1 -1  1]\n",
      " [ 1 -1 -1 -1 -1 -1 -1  1]\n",
      " [ 1  1  1  1  1  1  1  1]\n",
      " [ 1 -1 -1 -1 -1 -1 -1  1]\n",
      " [ 1 -1 -1 -1 -1 -1 -1  1]\n",
      " [ 1  1  1  1  1  1  1  1]]\n",
      "Recuperación fallida.\n",
      "Evaluando recuperación del patrón 3\n",
      "[[ 1  1  1  1  1  1  1  1]\n",
      " [-1 -1 -1  1  1 -1 -1 -1]\n",
      " [-1 -1 -1  1  1 -1 -1 -1]\n",
      " [-1 -1 -1  1  1 -1 -1 -1]\n",
      " [-1 -1 -1  1  1 -1 -1 -1]\n",
      " [-1 -1 -1  1  1 -1 -1 -1]\n",
      " [-1 -1 -1  1  1 -1 -1 -1]\n",
      " [ 1  1  1  1  1  1  1  1]]\n",
      "Recuperación exitosa.\n",
      "Evaluando recuperación del patrón 4\n",
      "[[ 1  1  1  1  1  1  1  1]\n",
      " [ 1 -1 -1 -1 -1 -1 -1  1]\n",
      " [ 1 -1 -1 -1 -1 -1 -1  1]\n",
      " [ 1 -1 -1 -1 -1 -1 -1  1]\n",
      " [ 1 -1 -1 -1 -1 -1 -1  1]\n",
      " [ 1 -1 -1 -1 -1 -1 -1  1]\n",
      " [ 1 -1 -1 -1 -1 -1 -1  1]\n",
      " [ 1  1  1  1  1  1  1  1]]\n",
      "Recuperación exitosa.\n",
      "Evaluando recuperación del patrón 5\n",
      "[[ 1  1  1  1  1  1  1  1]\n",
      " [ 1 -1 -1 -1 -1 -1 -1  1]\n",
      " [ 1 -1 -1 -1 -1 -1 -1  1]\n",
      " [ 1 -1 -1 -1 -1 -1 -1  1]\n",
      " [ 1 -1 -1 -1 -1 -1 -1  1]\n",
      " [ 1 -1 -1 -1 -1 -1 -1  1]\n",
      " [ 1 -1 -1 -1 -1 -1 -1  1]\n",
      " [ 1  1  1  1  1  1  1  1]]\n",
      "Recuperación fallida.\n"
     ]
    }
   ],
   "source": [
    "# Inicializamos y entrenamos la red de Hopfield\n",
    "W = inicializar_pesos(64)\n",
    "W = entrenar_red_hopfield(W, patrones)\n",
    "\n",
    "# Evaluamos la recuperación de cada patrón con ruido\n",
    "evaluar_recuperacion(W, patrones, ruido=0.2)"
   ]
  },
  {
   "cell_type": "markdown",
   "metadata": {},
   "source": [
    "\n",
    "Conclusión\n",
    "\n",
    "En la práctica de comparación entre la red de Hopfield y la memoria asociativa, se observaron resultados similares en ambas aproximaciones en cuanto a la recuperación de patrones. Aunque se ajustaron los niveles de ruido, tanto aumentándolos como reduciéndolos, los resultados no mostraron una mejora significativa en la capacidad de recuperación.\n",
    "\n",
    "Específicamente, de los patrones de letras entrenados, solo se logró recuperar consistentemente las letras \"I\" y \"O\", mientras que los demás patrones no convergieron al carácter original deseado. Esto indica que ambas redes, en este caso, tienen limitaciones en su capacidad de almacenamiento y recuperación.\n",
    "\n",
    "Estos resultados sugieren que, aunque la red de Hopfield y la memoria asociativa pueden recuperar patrones en escenarios con poca variación, su efectividad disminuye cuando se enfrentan a datos ruidosos o con mayor número de patrones."
   ]
  }
 ],
 "metadata": {
  "kernelspec": {
   "display_name": "Python 3",
   "language": "python",
   "name": "python3"
  },
  "language_info": {
   "codemirror_mode": {
    "name": "ipython",
    "version": 3
   },
   "file_extension": ".py",
   "mimetype": "text/x-python",
   "name": "python",
   "nbconvert_exporter": "python",
   "pygments_lexer": "ipython3",
   "version": "3.12.0"
  }
 },
 "nbformat": 4,
 "nbformat_minor": 2
}
