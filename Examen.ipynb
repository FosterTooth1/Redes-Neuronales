{
 "cells": [
  {
   "cell_type": "markdown",
   "metadata": {},
   "source": [
    "Corrección de examen Flores Lara Alberto"
   ]
  },
  {
   "cell_type": "markdown",
   "metadata": {},
   "source": [
    "1. ¿Cuál es la neurona de McCulloch-Pitts?\n",
    "\n",
    "La neurona de McCulloch-Pitts fue el primer modelo matemático de neurona, el cual recibe entradas binarias y emite una salida de 0 o 1, según si la suma de las entradas supera un umbral y no tiene capacidad de aprendizaje."
   ]
  },
  {
   "cell_type": "markdown",
   "metadata": {},
   "source": [
    "4. Encuentra la arquitectura y los pesos del siguiente conjunto"
   ]
  },
  {
   "cell_type": "code",
   "execution_count": 4,
   "metadata": {},
   "outputs": [
    {
     "name": "stdout",
     "output_type": "stream",
     "text": [
      "Neurona 1.1\n",
      "Salida de la neurona 1: -3.8\n",
      "Salida de la neurona 2: -1.4\n",
      "Salida de la neurona 3: 1.4\n",
      "Salida de la neurona 4: -1.0\n",
      "Neurona 1.2\n",
      "Salida de la neurona 1: -3.15\n",
      "Salida de la neurona 2: -0.75\n",
      "Salida de la neurona 3: 0.75\n",
      "Salida de la neurona 4: -1.65\n"
     ]
    }
   ],
   "source": [
    "# Función de activación escalonada\n",
    "def escalonada(valor):\n",
    "    if valor >= 0:\n",
    "        return 1\n",
    "    else:\n",
    "        return 0\n",
    "\n",
    "# Entradas\n",
    "x1 = float(input(\"Digite X1: \"))\n",
    "x2 = float(input(\"Digite X2: \"))\n",
    "x = [x1, x2]\n",
    "\n",
    "#Capa oculta 1.1\n",
    "# Pesos y sesgos de las 4 neuronas\n",
    "pesos1_1 = [\n",
    "    [-1, 1],  # Pesos de la neurona 5\n",
    "    [1, 1],   # Pesos de la neurona 6\n",
    "    [1, 1],   # Pesos de la neurona 7\n",
    "    [-1, 1]   # Pesos de la neurona 8\n",
    "]\n",
    "\n",
    "sesgos1_1 = [-1.4, -1.4, 1.4, 1.4]\n",
    "\n",
    "# Calculamos la salida de cada neurona\n",
    "salidas1_1 = []\n",
    "print(\"Neurona 1.1\")\n",
    "for i in range(4):\n",
    "    # Sumamos el producto de las entradas por los pesos y el sesgo\n",
    "    suma_ponderada = x[0] * pesos1_1[i][0] + x[1] * pesos1_1[i][1] + sesgos1_1[i]\n",
    "    # Aplicamos la función de activación escalonada\n",
    "    #salida = escalonada(suma_ponderada)\n",
    "    salida=suma_ponderada\n",
    "    salidas1_1.append(salida)\n",
    "    print(f\"Salida de la neurona {i+1}: {salida}\")\n",
    "    \n",
    "#Capa oculta 1.2\n",
    "# Pesos y sesgos de las 4 neuronas\n",
    "pesos1_2 = [\n",
    "    [-1, 1],  # Pesos de la neurona 1\n",
    "    [1, 1],   # Pesos de la neurona 2\n",
    "    [1, 1],   # Pesos de la neurona 3\n",
    "    [-1, 1]   # Pesos de la neurona 4\n",
    "]\n",
    "\n",
    "sesgos1_2 = [-0.75, -0.75, 0.75, 0.75]\n",
    "\n",
    "# Calculamos la salida de cada neurona\n",
    "salidas1_2 = []\n",
    "print(\"Neurona 1.2\")\n",
    "for i in range(4):\n",
    "    # Sumamos el producto de las entradas por los pesos y el sesgo\n",
    "    suma_ponderada = x[0] * pesos1_2[i][0] + x[1] * pesos1_2[i][1] + sesgos1_2[i]\n",
    "    # Aplicamos la función de activación escalonada\n",
    "    #salida = escalonada(suma_ponderada)\n",
    "    salida=suma_ponderada\n",
    "    salidas1_2.append(salida)\n",
    "    print(f\"Salida de la neurona {i+1}: {salida}\")"
   ]
  }
 ],
 "metadata": {
  "kernelspec": {
   "display_name": "Python 3",
   "language": "python",
   "name": "python3"
  },
  "language_info": {
   "codemirror_mode": {
    "name": "ipython",
    "version": 3
   },
   "file_extension": ".py",
   "mimetype": "text/x-python",
   "name": "python",
   "nbconvert_exporter": "python",
   "pygments_lexer": "ipython3",
   "version": "3.12.0"
  }
 },
 "nbformat": 4,
 "nbformat_minor": 2
}
